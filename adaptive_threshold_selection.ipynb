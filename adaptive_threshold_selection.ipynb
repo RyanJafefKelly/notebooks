{
 "cells": [
  {
   "cell_type": "markdown",
   "metadata": {},
   "source": [
    "## Adaptive Approximate Bayesian Computation Tolerance Selection\n",
    "\n",
    "To use ABC-SMC one has to choose the tolerance threshold or acceptance quantiles beforehand to run the method. However, Simola et al. [1] describe an adaptive strategy for selecting the threshold based on density ratios of rejection ABC posteriors. This tutorial teaches you how to use the adaptive threshold selection method."
   ]
  },
  {
   "cell_type": "code",
   "execution_count": 1,
   "metadata": {},
   "outputs": [],
   "source": [
    "import numpy as np\n",
    "# from scipy.stats import norm\n",
    "import scipy.stats as ss\n",
    "import elfi\n",
    "import logging\n",
    "import matplotlib\n",
    "import matplotlib.pyplot as plt\n",
    "\n",
    "from scipy.stats import gaussian_kde\n",
    "\n",
    "%matplotlib inline\n",
    "\n",
    "logging.basicConfig(level=logging.INFO)\n",
    "\n",
    "# Set an arbitrary global seed to keep the randomly generated quantities the same\n",
    "seed = 10\n",
    "np.random.seed(seed)\n",
    "\n"
   ]
  },
  {
   "cell_type": "markdown",
   "metadata": {},
   "source": [
    "We reproduce the Example 1 from [1] as a test case for `AdaptiveThresholdSMC`."
   ]
  },
  {
   "cell_type": "code",
   "execution_count": 2,
   "metadata": {},
   "outputs": [],
   "source": [
    "def gaussian_mixture(theta, batch_size=1, random_state=None):\n",
    "    sigma1 = 1\n",
    "    sigma2 = np.sqrt(0.01)\n",
    "    sigmas = np.array((sigma1, sigma2))\n",
    "    mixture_prob = 0.5\n",
    "    random_state = random_state or np.random\n",
    "    \n",
    "    scale_array = random_state.choice(sigmas,\n",
    "                                      size=batch_size,\n",
    "                                      replace=True,\n",
    "                                      p=np.array((mixture_prob, 1-mixture_prob)))\n",
    "    observation = ss.norm.rvs(loc=theta,\n",
    "                              scale=scale_array,\n",
    "                              size=batch_size,\n",
    "                              random_state=random_state)\n",
    "    \n",
    "    return observation\n",
    "    "
   ]
  },
  {
   "cell_type": "code",
   "execution_count": 3,
   "metadata": {},
   "outputs": [],
   "source": [
    "yobs = 0\n",
    "model = elfi.ElfiModel()\n",
    "elfi.Prior('uniform', -10, 20, name='theta', model=model)\n",
    "elfi.Simulator(gaussian_mixture, model['theta'], observed=yobs, name='GM')\n",
    "elfi.Distance('euclidean', model['GM'], name='d');"
   ]
  },
  {
   "cell_type": "code",
   "execution_count": 4,
   "metadata": {},
   "outputs": [
    {
     "name": "stderr",
     "output_type": "stream",
     "text": [
      "INFO:elfi.methods.inference.samplers:---------------- Starting round 0 ----------------\n",
      "INFO:elfi.methods.inference.samplers:---------------- Starting round 1 ----------------\n"
     ]
    },
    {
     "name": "stdout",
     "output_type": "stream",
     "text": [
      "ABC-SMC Round 1 / 10\n",
      "Progress [==================================================] 100.0% Complete\n",
      "ABC-SMC Round 2 / 10\n",
      "Progress [==================================================] 100.0% Complete\n"
     ]
    },
    {
     "name": "stderr",
     "output_type": "stream",
     "text": [
      "INFO:elfi.methods.inference.samplers:---------------- Starting round 2 ----------------\n",
      "INFO:elfi.methods.inference.samplers:---------------- Starting round 3 ----------------\n"
     ]
    },
    {
     "name": "stdout",
     "output_type": "stream",
     "text": [
      "ABC-SMC Round 3 / 10\n",
      "Progress [==================================================] 100.0% Complete\n",
      "ABC-SMC Round 4 / 10\n",
      "Progress [==============================--------------------] 60.7% Complete\r"
     ]
    },
    {
     "name": "stderr",
     "output_type": "stream",
     "text": [
      "INFO:elfi.methods.inference.samplers:---------------- Starting round 4 ----------------\n"
     ]
    },
    {
     "name": "stdout",
     "output_type": "stream",
     "text": [
      "Progress [==================================================] 100.0% Complete\n",
      "ABC-SMC Round 5 / 10\n",
      "Progress [========================--------------------------] 49.1% Complete\r"
     ]
    },
    {
     "name": "stderr",
     "output_type": "stream",
     "text": [
      "INFO:elfi.methods.inference.samplers:---------------- Starting round 5 ----------------\n"
     ]
    },
    {
     "name": "stdout",
     "output_type": "stream",
     "text": [
      "Progress [==================================================] 100.0% Complete\n",
      "ABC-SMC Round 6 / 10\n",
      "Progress [===========================================-------] 87.9% Complete\r"
     ]
    },
    {
     "name": "stderr",
     "output_type": "stream",
     "text": [
      "INFO:elfi.methods.inference.samplers:---------------- Starting round 6 ----------------\n"
     ]
    },
    {
     "name": "stdout",
     "output_type": "stream",
     "text": [
      "Progress [==================================================] 100.0% Complete\n",
      "ABC-SMC Round 7 / 10\n",
      "Progress [==================================================] 100.0% Complete\n"
     ]
    },
    {
     "name": "stderr",
     "output_type": "stream",
     "text": [
      "INFO:elfi.methods.inference.samplers:---------------- Starting round 7 ----------------\n"
     ]
    },
    {
     "name": "stdout",
     "output_type": "stream",
     "text": [
      "ABC-SMC Round 8 / 10\n",
      "Progress [===============================================---] 95.4% Complete\r"
     ]
    },
    {
     "name": "stderr",
     "output_type": "stream",
     "text": [
      "INFO:elfi.methods.inference.samplers:---------------- Starting round 8 ----------------\n"
     ]
    },
    {
     "name": "stdout",
     "output_type": "stream",
     "text": [
      "Progress [==================================================] 100.0% Complete\n",
      "ABC-SMC Round 9 / 10\n",
      "Progress [==============================================----] 93.0% Complete\r"
     ]
    },
    {
     "name": "stderr",
     "output_type": "stream",
     "text": [
      "INFO:elfi.methods.inference.samplers:---------------- Starting round 9 ----------------\n"
     ]
    },
    {
     "name": "stdout",
     "output_type": "stream",
     "text": [
      "Progress [==================================================] 100.0% Complete\n",
      "ABC-SMC Round 10 / 10\n",
      "Progress [==================================================] 100.0% Complete\n"
     ]
    }
   ],
   "source": [
    "smc = elfi.SMC(model['d'], batch_size=500, seed=1)\n",
    "thresholds = [1., 0.5013, 0.2519, 0.1272, 0.0648, 0.0337, 0.0181, 0.0102, 0.0064, 0.0025]\n",
    "smc_samples = smc.sample(1000, thresholds=thresholds)"
   ]
  },
  {
   "cell_type": "markdown",
   "metadata": {},
   "source": [
    "Adaptive threshold selection ABC (`elfi.AdaptiveThresholdSMC`) can be used in similar fashion as `elfi.SMC`. One does not need to provide a list of thresholds but user can set densityratio-based termination condition (`q_threshold`) and a limit for the number of iterations (`max_iter`). "
   ]
  },
  {
   "cell_type": "code",
   "execution_count": 5,
   "metadata": {},
   "outputs": [
    {
     "name": "stderr",
     "output_type": "stream",
     "text": [
      "INFO:elfi.methods.inference.samplers:---------------- Starting round 0 ----------------\n",
      "INFO:elfi.methods.inference.samplers:ABC-SMC: Adapting quantile threshold...\n"
     ]
    },
    {
     "name": "stdout",
     "output_type": "stream",
     "text": [
      "ABC-SMC Round 1 / 10\n",
      "Progress [==================================================] 100.0% Complete\n"
     ]
    },
    {
     "name": "stderr",
     "output_type": "stream",
     "text": [
      "INFO:elfi.methods.inference.samplers:ABC-SMC: Estimated maximum density ratio 0.27634\n",
      "INFO:elfi.methods.inference.samplers:---------------- Starting round 1 ----------------\n",
      "INFO:elfi.methods.inference.samplers:ABC-SMC: Selected threshold for next population 0.532\n",
      "INFO:elfi.methods.inference.samplers:ABC-SMC: Adapting quantile threshold...\n"
     ]
    },
    {
     "name": "stdout",
     "output_type": "stream",
     "text": [
      "ABC-SMC Round 2 / 10\n",
      "Progress [==================================================] 100.0% Complete\n"
     ]
    },
    {
     "name": "stderr",
     "output_type": "stream",
     "text": [
      "INFO:elfi.methods.inference.samplers:ABC-SMC: Estimated maximum density ratio 0.68685\n",
      "INFO:elfi.methods.inference.samplers:---------------- Starting round 2 ----------------\n",
      "INFO:elfi.methods.inference.samplers:ABC-SMC: Selected threshold for next population 0.353\n",
      "INFO:elfi.methods.inference.samplers:ABC-SMC: Adapting quantile threshold...\n"
     ]
    },
    {
     "name": "stdout",
     "output_type": "stream",
     "text": [
      "ABC-SMC Round 3 / 10\n",
      "Progress [==================================================] 100.0% Complete\n"
     ]
    },
    {
     "name": "stderr",
     "output_type": "stream",
     "text": [
      "INFO:elfi.methods.inference.samplers:ABC-SMC: Estimated maximum density ratio 0.99448\n",
      "INFO:elfi.methods.inference.samplers:---------------- Starting round 3 ----------------\n",
      "INFO:elfi.methods.inference.samplers:ABC-SMC: Selected threshold for next population 0.346\n",
      "INFO:elfi.methods.inference.samplers:ABC-SMC: Adapting quantile threshold...\n"
     ]
    },
    {
     "name": "stdout",
     "output_type": "stream",
     "text": [
      "ABC-SMC Round 4 / 10\n",
      "Progress [==================================================] 100.0% Complete\n"
     ]
    },
    {
     "name": "stderr",
     "output_type": "stream",
     "text": [
      "INFO:elfi.methods.inference.samplers:ABC-SMC: Estimated maximum density ratio 0.93473\n",
      "INFO:elfi.methods.inference.samplers:---------------- Starting round 4 ----------------\n",
      "INFO:elfi.methods.inference.samplers:ABC-SMC: Selected threshold for next population 0.299\n",
      "INFO:elfi.methods.inference.samplers:ABC-SMC: Adapting quantile threshold...\n"
     ]
    },
    {
     "name": "stdout",
     "output_type": "stream",
     "text": [
      "ABC-SMC Round 5 / 10\n",
      "Progress [==================================================] 100.0% Complete\n"
     ]
    },
    {
     "name": "stderr",
     "output_type": "stream",
     "text": [
      "INFO:elfi.methods.inference.samplers:ABC-SMC: Estimated maximum density ratio 0.98851\n",
      "INFO:elfi.methods.inference.samplers:---------------- Starting round 5 ----------------\n",
      "INFO:elfi.methods.inference.samplers:ABC-SMC: Selected threshold for next population 0.281\n",
      "INFO:elfi.methods.inference.samplers:ABC-SMC: Adapting quantile threshold...\n"
     ]
    },
    {
     "name": "stdout",
     "output_type": "stream",
     "text": [
      "ABC-SMC Round 6 / 10\n",
      "Progress [==================================================] 100.0% Complete\n"
     ]
    },
    {
     "name": "stderr",
     "output_type": "stream",
     "text": [
      "INFO:elfi.methods.inference.samplers:ABC-SMC: Estimated maximum density ratio 0.95930\n",
      "INFO:elfi.methods.inference.samplers:---------------- Starting round 6 ----------------\n",
      "INFO:elfi.methods.inference.samplers:ABC-SMC: Selected threshold for next population 0.257\n",
      "INFO:elfi.methods.inference.samplers:ABC-SMC: Adapting quantile threshold...\n"
     ]
    },
    {
     "name": "stdout",
     "output_type": "stream",
     "text": [
      "ABC-SMC Round 7 / 10\n",
      "Progress [==================================================] 100.0% Complete\n"
     ]
    },
    {
     "name": "stderr",
     "output_type": "stream",
     "text": [
      "INFO:elfi.methods.inference.samplers:ABC-SMC: Estimated maximum density ratio 0.99010\n",
      "INFO:elfi.methods.inference.samplers:---------------- Starting round 7 ----------------\n",
      "INFO:elfi.methods.inference.samplers:ABC-SMC: Selected threshold for next population 0.252\n",
      "INFO:elfi.methods.inference.samplers:ABC-SMC: Adapting quantile threshold...\n"
     ]
    },
    {
     "name": "stdout",
     "output_type": "stream",
     "text": [
      "ABC-SMC Round 8 / 10\n",
      "Progress [==================================================] 100.0% Complete\n"
     ]
    },
    {
     "name": "stderr",
     "output_type": "stream",
     "text": [
      "INFO:elfi.methods.inference.samplers:ABC-SMC: Estimated maximum density ratio 0.99763\n"
     ]
    }
   ],
   "source": [
    "adaptive_smc = elfi.AdaptiveThresholdSMC(model['d'], batch_size=500, seed=2, q_threshold=0.995)\n",
    "adaptive_smc_samples = adaptive_smc.sample(1000, max_iter=10)"
   ]
  },
  {
   "cell_type": "markdown",
   "metadata": {},
   "source": [
    "We compare visually the approximated posterior and the true posterior, which in this case is available. "
   ]
  },
  {
   "cell_type": "code",
   "execution_count": 6,
   "metadata": {},
   "outputs": [],
   "source": [
    "def gaussian_mixture_density(theta, sigma_1=1, sigma_2=0.1):\n",
    "    y = 0.5 * ss.norm.pdf(theta, loc=0, scale=sigma_1) + 0.5 * ss.norm.pdf(theta, loc=0, scale=sigma_2)\n",
    "    return y"
   ]
  },
  {
   "cell_type": "code",
   "execution_count": 7,
   "metadata": {},
   "outputs": [
    {
     "name": "stdout",
     "output_type": "stream",
     "text": [
      "Method: SMC\n",
      "Number of samples: 1000\n",
      "Number of simulations: 1352000\n",
      "Threshold: 0.0025\n",
      "Sample means: theta: 0.0181\n",
      "\n",
      "Method: AdaptiveThresholdSMC\n",
      "Number of samples: 1000\n",
      "Number of simulations: 49500\n",
      "Threshold: 0.236\n",
      "Sample means: theta: -0.042\n",
      "\n"
     ]
    }
   ],
   "source": [
    "print(smc_samples)\n",
    "print(adaptive_smc_samples)"
   ]
  },
  {
   "cell_type": "markdown",
   "metadata": {},
   "source": [
    "We compute Kernel density estimates of the posteriors based on the approximate posterior samples and visualise them in a density plot. "
   ]
  },
  {
   "cell_type": "code",
   "execution_count": 8,
   "metadata": {},
   "outputs": [
    {
     "data": {
      "image/png": "[encoded data removed]",
      "text/plain": [
       "<Figure size 432x288 with 1 Axes>"
      ]
     },
     "metadata": {
      "needs_background": "light"
     },
     "output_type": "display_data"
    }
   ],
   "source": [
    "smc_posteriorpdf = gaussian_kde(smc_samples.samples_array[:,0])\n",
    "adaptive_smc_posteriorpdf = gaussian_kde(adaptive_smc_samples.samples_array[:,0])\n",
    "\n",
    "reference_posteriorpdf = gaussian_mixture_density\n",
    "\n",
    "xs = np.linspace(-3,3,200)\n",
    "smc_posteriorpdf.covariance_factor = lambda : .25\n",
    "smc_posteriorpdf._compute_covariance()\n",
    "adaptive_smc_posteriorpdf.covariance_factor = lambda : .25\n",
    "adaptive_smc_posteriorpdf._compute_covariance()\n",
    "plt.plot(xs,smc_posteriorpdf(xs))\n",
    "plt.plot(xs,adaptive_smc_posteriorpdf(xs))\n",
    "plt.plot(xs,reference_posteriorpdf(xs))\n",
    "plt.legend(('abc-smc', 'adaptive abc-smc', 'reference'))\n",
    "plt.show()"
   ]
  },
  {
   "cell_type": "markdown",
   "metadata": {},
   "source": [
    "[1] Simola, U., Cisewski-Kehe, J., Gutmann, M.U. and Corander, J. [*Adaptive Approximate Bayesian Computation Tolerance Selection*](https://projecteuclid.org/journals/bayesian-analysis/advance-publication/Adaptive-Approximate-Bayesian-Computation-Tolerance-Selection/10.1214/20-BA1211.full), Bayesian Analysis 1(1):1-27, 2021\n"
   ]
  }
 ],
 "metadata": {
  "kernelspec": {
   "display_name": "Python 3.6.9 64-bit ('elfi36': conda)",
   "language": "python",
   "name": "python36964bitelfi36conda8bec451552304612bd355a97e3742bbb"
  },
  "language_info": {
   "codemirror_mode": {
    "name": "ipython",
    "version": 3
   },
   "file_extension": ".py",
   "mimetype": "text/x-python",
   "name": "python",
   "nbconvert_exporter": "python",
   "pygments_lexer": "ipython3",
   "version": "3.6.10"
  }
 },
 "nbformat": 4,
 "nbformat_minor": 4
}
