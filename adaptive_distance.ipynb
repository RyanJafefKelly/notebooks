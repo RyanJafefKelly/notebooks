{
 "cells": [
  {
   "cell_type": "markdown",
   "metadata": {},
   "source": [
    "# Adaptive distance\n",
    "\n",
    "[ABC](https://elfi.readthedocs.io/en/latest/usage/tutorial.html#approximate-bayesian-computation) provides means to sample an approximate posterior distribution over unknown parameters based on comparison between observed and simulated data. \n",
    "This comparison is often based on distance between features that summarise the data and are informative about the parameter values.\n",
    "\n",
    "Here we assume that the summaries calculated based on observed and simulated data are compared based on weighted distance with weight $w_i=1/\\sigma_i$ calculated based on their standard deviation $\\sigma_i$.\n",
    "This ensures that the selected summaries to have an equal contribution in the distance between observed and simulated data.\n",
    "\n",
    "This notebook studies [adaptive distance](https://projecteuclid.org/euclid.ba/1460641065) [SMC-ABC](https://elfi.readthedocs.io/en/latest/usage/tutorial.html#sequential-monte-carlo-abc) where $\\sigma_i$ and $w_i$ are recalculated between SMC iterations as proposed in [[1](#Reference)]. "
   ]
  },
  {
   "cell_type": "code",
   "execution_count": 1,
   "metadata": {},
   "outputs": [],
   "source": [
    "import numpy as np\n",
    "import scipy.stats as ss\n",
    "import matplotlib.pyplot as plt\n",
    "%matplotlib inline"
   ]
  },
  {
   "cell_type": "code",
   "execution_count": 2,
   "metadata": {},
   "outputs": [],
   "source": [
    "import elfi"
   ]
  },
  {
   "cell_type": "markdown",
   "metadata": {},
   "source": [
    "## Example 1:\n",
    "\n",
    "Assume we have an unknown parameter with prior distribution $\\theta\\sim U(0,50)$ and two summaries $S_1\\sim N(\\theta, 1)$ and $S_2\\sim N(\\theta, 100)$ whose observed values are 20. "
   ]
  },
  {
   "cell_type": "code",
   "execution_count": 3,
   "metadata": {},
   "outputs": [],
   "source": [
    "def simulator(mu, batch_size=1, random_state=None):\n",
    "    \n",
    "    batches_mu = np.asarray(mu).reshape((-1,1))\n",
    "    \n",
    "    obs_1 = ss.norm.rvs(loc=batches_mu, scale=1, random_state=random_state).reshape((-1,1))\n",
    "    obs_2 = ss.norm.rvs(loc=batches_mu, scale=100, random_state=random_state).reshape((-1,1))\n",
    "    \n",
    "    return np.hstack((obs_1, obs_2))"
   ]
  },
  {
   "cell_type": "code",
   "execution_count": 4,
   "metadata": {},
   "outputs": [],
   "source": [
    "observed_sums = np.array([20,20])[None,:]"
   ]
  },
  {
   "cell_type": "markdown",
   "metadata": {},
   "source": [
    "Here both summaries are informative about the unknown model parameter but $S_2$ has more observation noise than $S_1$. \n",
    "\n",
    "Euclidean distance between the observed and simulated summaries can be used to find parameter values that could produce the observed data. Here we describe dependencies between the unknown parameter value and observed distances as an ELFI model `m` and sample the approximate posterior distribution with the [rejection sampler](https://elfi.readthedocs.io/en/latest/usage/tutorial.html#inference-with-rejection-sampling)."
   ]
  },
  {
   "cell_type": "code",
   "execution_count": 5,
   "metadata": {},
   "outputs": [],
   "source": [
    "m = elfi.new_model()\n",
    "theta = elfi.Prior(ss.uniform, 0, 50, model=m)\n",
    "sim = elfi.Simulator(simulator, theta, observed=observed_sums)\n",
    "d = elfi.Distance('euclidean', sim)"
   ]
  },
  {
   "cell_type": "code",
   "execution_count": 6,
   "metadata": {},
   "outputs": [],
   "source": [
    "rej = elfi.Rejection(d, batch_size=10000, seed=123)"
   ]
  },
  {
   "cell_type": "markdown",
   "metadata": {},
   "source": [
    "Let us sample 100 parameters with `quantile=0.01`. This means that we sample 10000 candidate parameters from the prior distribution and take the 100 parameters that produce simulated summaries closest to the observed summaries."
   ]
  },
  {
   "cell_type": "code",
   "execution_count": 7,
   "metadata": {},
   "outputs": [
    {
     "name": "stdout",
     "output_type": "stream",
     "text": [
      "Progress [==================================================] 100.0% Complete\n"
     ]
    }
   ],
   "source": [
    "sample = rej.sample(100, quantile=0.01)"
   ]
  },
  {
   "cell_type": "code",
   "execution_count": 8,
   "metadata": {},
   "outputs": [
    {
     "data": {
      "text/plain": [
       "Method: Rejection\n",
       "Number of samples: 100\n",
       "Number of simulations: 10000\n",
       "Threshold: 6.66\n",
       "Sample means: theta: 19.6"
      ]
     },
     "execution_count": 8,
     "metadata": {},
     "output_type": "execute_result"
    }
   ],
   "source": [
    "sample"
   ]
  },
  {
   "cell_type": "code",
   "execution_count": 9,
   "metadata": {},
   "outputs": [
    {
     "data": {
      "image/png": "[encoded data removed]",
      "text/plain": [
       "<Figure size 432x288 with 1 Axes>"
      ]
     },
     "metadata": {
      "needs_background": "light"
     },
     "output_type": "display_data"
    }
   ],
   "source": [
    "plt.hist(sample.samples_array,range=(0,50),bins=20)\n",
    "plt.xlabel('theta');"
   ]
  },
  {
   "cell_type": "markdown",
   "metadata": {},
   "source": [
    "The approximate posterior sample is concentrated around $\\theta=20$ as expected in this example. However the sample distribution is much wider than we would observe in case the sample was selected based on $S_1$ alone.\n",
    "\n",
    "Now let us test adaptive distance in the same example. \n",
    "\n",
    "First we switch the distance node `d` to an adaptive distance node and initialise adaptive distance SMC-ABC. Initialisation is identical to the rejection sampler, and here we use the same batch size and seed as earlier, so that the methods are presented with the exact same candidate parameters."
   ]
  },
  {
   "cell_type": "code",
   "execution_count": 10,
   "metadata": {},
   "outputs": [],
   "source": [
    "d.become(elfi.AdaptiveDistance(sim))"
   ]
  },
  {
   "cell_type": "code",
   "execution_count": 11,
   "metadata": {},
   "outputs": [],
   "source": [
    "ada_smc = elfi.AdaptiveDistanceSMC(d, batch_size=10000, seed=123)"
   ]
  },
  {
   "cell_type": "markdown",
   "metadata": {},
   "source": [
    "Since this is an iterative method, we must decide both sample size (`n_samples`) and how many populations are sampled (`rounds`). In addition we can decide the $\\alpha$ quantile (`quantile`) used in estimation. \n",
    "\n",
    "Each population with `n_samples` parameter values is sampled as follows: 1. `n_samples/quantile` parameters are sampled from the current proposal distribution with acceptance threshold determined based on the previous population and 2. the distance measure is updated based on the observed sample and `n_samples` with the smallest distance are selected as the new population. The first population is sampled from the prior distribution and all samples are accepted in step 1.\n",
    "\n",
    "Here we sample one population with `quantile=0.01`. This means that the total simulation count will be the same as with the rejection sampler, but now the distance function is updated based on the 10000 observed summaries, and the 100 parameters included in the posterior sample are selected based on the new distance measure."
   ]
  },
  {
   "cell_type": "code",
   "execution_count": 12,
   "metadata": {},
   "outputs": [
    {
     "name": "stdout",
     "output_type": "stream",
     "text": [
      "ABC-SMC Round 1 / 1\n",
      "Progress [==================================================] 100.0% Complete\n"
     ]
    }
   ],
   "source": [
    "sample_ada = ada_smc.sample(100, 1, quantile=0.01)"
   ]
  },
  {
   "cell_type": "code",
   "execution_count": 13,
   "metadata": {},
   "outputs": [
    {
     "data": {
      "text/plain": [
       "Method: AdaptiveDistanceSMC\n",
       "Number of samples: 100\n",
       "Number of simulations: 10000\n",
       "Threshold: 0.462\n",
       "Sample means: theta: 19.8"
      ]
     },
     "execution_count": 13,
     "metadata": {},
     "output_type": "execute_result"
    }
   ],
   "source": [
    "sample_ada"
   ]
  },
  {
   "cell_type": "code",
   "execution_count": 14,
   "metadata": {},
   "outputs": [
    {
     "data": {
      "image/png": "[encoded data removed]",
      "text/plain": [
       "<Figure size 432x288 with 1 Axes>"
      ]
     },
     "metadata": {
      "needs_background": "light"
     },
     "output_type": "display_data"
    }
   ],
   "source": [
    "plt.hist(sample_ada.samples_array,range=(0,50),bins=20)\n",
    "plt.xlabel('theta');"
   ]
  },
  {
   "cell_type": "markdown",
   "metadata": {},
   "source": [
    "We see that the posterior distribution over unknown parameter values is narrower than in the previous example. This is because the summaries are now normalised based on their estimated standard deviation. \n",
    "\n",
    "We can see $w_1$ and $w_2$:"
   ]
  },
  {
   "cell_type": "code",
   "execution_count": 15,
   "metadata": {},
   "outputs": [
    {
     "data": {
      "text/plain": [
       "[array([0.06940134, 0.0097677 ])]"
      ]
     },
     "execution_count": 15,
     "metadata": {},
     "output_type": "execute_result"
    }
   ],
   "source": [
    "sample_ada.adaptive_distance_w"
   ]
  },
  {
   "cell_type": "markdown",
   "metadata": {},
   "source": [
    "## Example 2:\n",
    "\n",
    "This is the normal distribution example presented in [[1](#Reference)]. \n",
    "\n",
    "Here we have an unknown parameter with prior distribution $\\theta\\sim N(0,100)$ and two summaries $S_1\\sim N(\\theta, 0.1)$ and $S_2\\sim N(1, 1)$ whose observed values are 0. "
   ]
  },
  {
   "cell_type": "code",
   "execution_count": 16,
   "metadata": {},
   "outputs": [],
   "source": [
    "def simulator(mu, batch_size=1, random_state=None):\n",
    "    \n",
    "    batches_mu = np.asarray(mu).reshape((-1,1))\n",
    "    \n",
    "    obs_1 = ss.norm.rvs(loc=batches_mu, scale=0.1, random_state=random_state).reshape((-1,1))\n",
    "    obs_2 = ss.norm.rvs(loc=1, scale=1, size=batch_size, random_state=random_state).reshape((-1,1))\n",
    "    \n",
    "    return np.hstack((obs_1, obs_2))"
   ]
  },
  {
   "cell_type": "code",
   "execution_count": 17,
   "metadata": {},
   "outputs": [],
   "source": [
    "observed_sums = np.array([0,0])[None,:]"
   ]
  },
  {
   "cell_type": "markdown",
   "metadata": {},
   "source": [
    "$S_1$ is now informative and $S_2$ uninformative about the unknown parameter value, and we note that between the two summaries, $S_1$ has the larger variance under the prior predictive distribution. This means that normalisation estimated based on summaries observed in the initial round or based on a separate sample would not work well in this example.\n",
    "\n",
    "Let us define a new model and initialise adaptive distance SMC-ABC."
   ]
  },
  {
   "cell_type": "code",
   "execution_count": 18,
   "metadata": {},
   "outputs": [],
   "source": [
    "m = elfi.new_model()\n",
    "theta = elfi.Prior(ss.norm, 0, 100, model=m)\n",
    "sim = elfi.Simulator(simulator, theta, observed=observed_sums)\n",
    "d = elfi.AdaptiveDistance(sim)"
   ]
  },
  {
   "cell_type": "code",
   "execution_count": 19,
   "metadata": {},
   "outputs": [],
   "source": [
    "ada_smc = elfi.AdaptiveDistanceSMC(d, batch_size=2000, seed=123)"
   ]
  },
  {
   "cell_type": "markdown",
   "metadata": {},
   "source": [
    "Next we sample 1000 parameter values in 5 rounds with the default `quantile=0.5` which is recommended in sequential estimation [[1](#Reference)]:"
   ]
  },
  {
   "cell_type": "code",
   "execution_count": 20,
   "metadata": {},
   "outputs": [
    {
     "name": "stdout",
     "output_type": "stream",
     "text": [
      "ABC-SMC Round 1 / 5\n",
      "Progress [==================================================] 100.0% Complete\n",
      "ABC-SMC Round 2 / 5\n",
      "Progress [==================================================] 100.0% Complete\n",
      "ABC-SMC Round 3 / 5\n",
      "Progress [==================================================] 100.0% Complete\n",
      "ABC-SMC Round 4 / 5\n",
      "Progress [==================================================] 100.0% Complete\n",
      "ABC-SMC Round 5 / 5\n",
      "Progress [==================================================] 100.0% Complete\n"
     ]
    }
   ],
   "source": [
    "sample_ada = ada_smc.sample(1000, 5)"
   ]
  },
  {
   "cell_type": "code",
   "execution_count": 21,
   "metadata": {},
   "outputs": [
    {
     "data": {
      "text/plain": [
       "Method: AdaptiveDistanceSMC\n",
       "Number of samples: 1000\n",
       "Number of simulations: 32000\n",
       "Threshold: 0.925\n",
       "Sample means: theta: -0.195"
      ]
     },
     "execution_count": 21,
     "metadata": {},
     "output_type": "execute_result"
    }
   ],
   "source": [
    "sample_ada"
   ]
  },
  {
   "cell_type": "code",
   "execution_count": 22,
   "metadata": {},
   "outputs": [
    {
     "data": {
      "image/png": "[encoded data removed]",
      "text/plain": [
       "<Figure size 432x288 with 1 Axes>"
      ]
     },
     "metadata": {
      "needs_background": "light"
     },
     "output_type": "display_data"
    }
   ],
   "source": [
    "plt.hist(sample_ada.samples_array, range=(-25,25), bins=20)\n",
    "plt.xlabel(theta);"
   ]
  },
  {
   "cell_type": "markdown",
   "metadata": {},
   "source": [
    "The sample distribution is concentrated around $\\theta=0$ but wider than could be expected. However we can continue the iterative estimation process. Here we sample two more populations:"
   ]
  },
  {
   "cell_type": "code",
   "execution_count": 23,
   "metadata": {},
   "outputs": [
    {
     "name": "stdout",
     "output_type": "stream",
     "text": [
      "ABC-SMC Round 6 / 7\n",
      "Progress [==================================================] 100.0% Complete\n",
      "ABC-SMC Round 7 / 7\n",
      "Progress [==================================================] 100.0% Complete\n"
     ]
    }
   ],
   "source": [
    "sample_ada = ada_smc.sample(1000, 2)"
   ]
  },
  {
   "cell_type": "code",
   "execution_count": 24,
   "metadata": {},
   "outputs": [
    {
     "data": {
      "text/plain": [
       "Method: AdaptiveDistanceSMC\n",
       "Number of samples: 1000\n",
       "Number of simulations: 48000\n",
       "Threshold: 0.868\n",
       "Sample means: theta: 0.0183"
      ]
     },
     "execution_count": 24,
     "metadata": {},
     "output_type": "execute_result"
    }
   ],
   "source": [
    "sample_ada"
   ]
  },
  {
   "cell_type": "code",
   "execution_count": 25,
   "metadata": {},
   "outputs": [
    {
     "data": {
      "image/png": "[encoded data removed]",
      "text/plain": [
       "<Figure size 432x288 with 1 Axes>"
      ]
     },
     "metadata": {
      "needs_background": "light"
     },
     "output_type": "display_data"
    }
   ],
   "source": [
    "plt.hist(sample_ada.samples_array, range=(-25,25), bins=20)\n",
    "plt.xlabel('theta');"
   ]
  },
  {
   "cell_type": "markdown",
   "metadata": {},
   "source": [
    "We observe that the sample mean is now closer to zero and the sample distribution is narrower.\n",
    "\n",
    "Let us examine $w_1$ and $w_2$:"
   ]
  },
  {
   "cell_type": "code",
   "execution_count": 26,
   "metadata": {},
   "outputs": [
    {
     "data": {
      "text/plain": [
       "[array([0.01023228, 1.00584519]),\n",
       " array([0.00921258, 0.99287166]),\n",
       " array([0.01201937, 0.99365522]),\n",
       " array([0.02217631, 0.98925365]),\n",
       " array([0.04355987, 1.00076738]),\n",
       " array([0.07863284, 0.9971017 ]),\n",
       " array([0.13892778, 1.00929049])]"
      ]
     },
     "execution_count": 26,
     "metadata": {},
     "output_type": "execute_result"
    }
   ],
   "source": [
    "sample_ada.adaptive_distance_w"
   ]
  },
  {
   "cell_type": "markdown",
   "metadata": {},
   "source": [
    "We can see that $w_2$ (second column) is constant across iterations whereas $w_1$ increases as the method learns more about possible parameter values and the proposal distribution becomes more concentrated around $\\theta=0$.\n",
    "\n",
    "## Notes\n",
    "\n",
    "The adaptive distance SMC-ABC method demonstrated in this notebook normalises summary statistics based on their estimated standard deviation under the proposal distribution in each iteration. This ensures that all summaries have an equal contribution to the distance between simulated and observed data in all iterations. \n",
    "\n",
    "It is important to note that the method does not evaluate whether summaries are needed or informative. In both examples studied in this notebook, results would improve if inference was carried out based on $S_1$ alone. Hence one should choose the summaries used in adaptive distance SMC-ABC with the usual care. ELFI tools that aid in the selection process are discussed in the diagnostics notebook available [here](https://github.com/elfi-dev/notebooks/tree/master)."
   ]
  },
  {
   "cell_type": "markdown",
   "metadata": {},
   "source": [
    "## Reference"
   ]
  },
  {
   "cell_type": "markdown",
   "metadata": {},
   "source": [
    "[1] Prangle D (2017). Adapting the ABC Distance Function. Bayesian Analysis 12(1): 289-309, 2017. https://projecteuclid.org/euclid.ba/1460641065"
   ]
  }
 ],
 "metadata": {
  "kernelspec": {
   "display_name": "Python (dev)",
   "language": "python",
   "name": "dev"
  },
  "language_info": {
   "codemirror_mode": {
    "name": "ipython",
    "version": 3
   },
   "file_extension": ".py",
   "mimetype": "text/x-python",
   "name": "python",
   "nbconvert_exporter": "python",
   "pygments_lexer": "ipython3",
   "version": "3.6.12"
  }
 },
 "nbformat": 4,
 "nbformat_minor": 4
}
